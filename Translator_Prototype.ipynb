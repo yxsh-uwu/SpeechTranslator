{
  "cells": [
    {
      "cell_type": "code",
      "execution_count": null,
      "id": "93cbbad6",
      "metadata": {
        "collapsed": true,
        "id": "93cbbad6",
        "outputId": "bffe1cb0-be65-469b-d9d0-872c5840e5bf"
      },
      "outputs": [
        {
          "name": "stdout",
          "output_type": "stream",
          "text": [
            "Collecting pyaudio\n",
            "  Obtaining dependency information for pyaudio from https://files.pythonhosted.org/packages/82/d8/f043c854aad450a76e476b0cf9cda1956419e1dacf1062eb9df3c0055abe/PyAudio-0.2.14-cp311-cp311-win_amd64.whl.metadata\n",
            "  Downloading PyAudio-0.2.14-cp311-cp311-win_amd64.whl.metadata (2.7 kB)\n",
            "Downloading PyAudio-0.2.14-cp311-cp311-win_amd64.whl (164 kB)\n",
            "   ---------------------------------------- 0.0/164.1 kB ? eta -:--:--\n",
            "   ------- ------------------------------- 30.7/164.1 kB 640.0 kB/s eta 0:00:01\n",
            "   ---------------------------------------- 164.1/164.1 kB 2.4 MB/s eta 0:00:00\n",
            "Installing collected packages: pyaudio\n",
            "Successfully installed pyaudio-0.2.14\n",
            "Note: you may need to restart the kernel to use updated packages.\n"
          ]
        }
      ],
      "source": [
        "pip install pyaudio"
      ]
    },
    {
      "cell_type": "code",
      "execution_count": null,
      "id": "5ffb9cb3",
      "metadata": {
        "collapsed": true,
        "id": "5ffb9cb3",
        "outputId": "4fc8146b-fb64-40fe-f003-63f78f1ffc3c"
      },
      "outputs": [
        {
          "name": "stdout",
          "output_type": "stream",
          "text": [
            "Collecting gtts\n",
            "  Obtaining dependency information for gtts from https://files.pythonhosted.org/packages/6a/4f/b133719e7638ca68f8805dd75731371db8d5ed23be84d6fc30845a46bedb/gTTS-2.5.0-py3-none-any.whl.metadata\n",
            "  Downloading gTTS-2.5.0-py3-none-any.whl.metadata (4.1 kB)\n",
            "Requirement already satisfied: requests<3,>=2.27 in c:\\users\\akhil\\anaconda3\\lib\\site-packages (from gtts) (2.31.0)\n",
            "Requirement already satisfied: click<8.2,>=7.1 in c:\\users\\akhil\\anaconda3\\lib\\site-packages (from gtts) (8.0.4)\n",
            "Requirement already satisfied: colorama in c:\\users\\akhil\\anaconda3\\lib\\site-packages (from click<8.2,>=7.1->gtts) (0.4.6)\n",
            "Requirement already satisfied: charset-normalizer<4,>=2 in c:\\users\\akhil\\anaconda3\\lib\\site-packages (from requests<3,>=2.27->gtts) (2.0.4)\n",
            "Requirement already satisfied: idna<4,>=2.5 in c:\\users\\akhil\\anaconda3\\lib\\site-packages (from requests<3,>=2.27->gtts) (3.4)\n",
            "Requirement already satisfied: urllib3<3,>=1.21.1 in c:\\users\\akhil\\anaconda3\\lib\\site-packages (from requests<3,>=2.27->gtts) (1.26.16)\n",
            "Requirement already satisfied: certifi>=2017.4.17 in c:\\users\\akhil\\anaconda3\\lib\\site-packages (from requests<3,>=2.27->gtts) (2023.11.17)\n",
            "Downloading gTTS-2.5.0-py3-none-any.whl (29 kB)\n",
            "Installing collected packages: gtts\n",
            "Successfully installed gtts-2.5.0\n",
            "Note: you may need to restart the kernel to use updated packages.\n"
          ]
        }
      ],
      "source": [
        "pip install gtts"
      ]
    },
    {
      "cell_type": "code",
      "execution_count": null,
      "id": "ba352a28",
      "metadata": {
        "collapsed": true,
        "id": "ba352a28",
        "outputId": "f201984b-f248-4742-819f-ebc39bc3bc10"
      },
      "outputs": [
        {
          "name": "stdout",
          "output_type": "stream",
          "text": [
            "Collecting playsound==1.2.2\n",
            "  Downloading playsound-1.2.2-py2.py3-none-any.whl (6.0 kB)\n",
            "Installing collected packages: playsound\n",
            "  Attempting uninstall: playsound\n",
            "    Found existing installation: playsound 1.3.0\n",
            "    Uninstalling playsound-1.3.0:\n",
            "      Successfully uninstalled playsound-1.3.0\n",
            "Successfully installed playsound-1.2.2\n",
            "Note: you may need to restart the kernel to use updated packages.\n"
          ]
        }
      ],
      "source": [
        "pip install playsound==1.2.2"
      ]
    },
    {
      "cell_type": "code",
      "execution_count": null,
      "id": "c1ebd919",
      "metadata": {
        "collapsed": true,
        "id": "c1ebd919",
        "outputId": "de56235e-3725-4953-fb81-28241ef1d789"
      },
      "outputs": [
        {
          "name": "stdout",
          "output_type": "stream",
          "text": [
            "Collecting deep-translator\n",
            "  Obtaining dependency information for deep-translator from https://files.pythonhosted.org/packages/38/3f/61a8ef73236dbea83a1a063a8af2f8e1e41a0df64f122233938391d0f175/deep_translator-1.11.4-py3-none-any.whl.metadata\n",
            "  Downloading deep_translator-1.11.4-py3-none-any.whl.metadata (30 kB)\n",
            "Requirement already satisfied: beautifulsoup4<5.0.0,>=4.9.1 in c:\\users\\akhil\\anaconda3\\lib\\site-packages (from deep-translator) (4.12.2)\n",
            "Requirement already satisfied: requests<3.0.0,>=2.23.0 in c:\\users\\akhil\\anaconda3\\lib\\site-packages (from deep-translator) (2.31.0)\n",
            "Requirement already satisfied: soupsieve>1.2 in c:\\users\\akhil\\anaconda3\\lib\\site-packages (from beautifulsoup4<5.0.0,>=4.9.1->deep-translator) (2.4)\n",
            "Requirement already satisfied: charset-normalizer<4,>=2 in c:\\users\\akhil\\anaconda3\\lib\\site-packages (from requests<3.0.0,>=2.23.0->deep-translator) (2.0.4)\n",
            "Requirement already satisfied: idna<4,>=2.5 in c:\\users\\akhil\\anaconda3\\lib\\site-packages (from requests<3.0.0,>=2.23.0->deep-translator) (3.4)\n",
            "Requirement already satisfied: urllib3<3,>=1.21.1 in c:\\users\\akhil\\anaconda3\\lib\\site-packages (from requests<3.0.0,>=2.23.0->deep-translator) (1.26.16)\n",
            "Requirement already satisfied: certifi>=2017.4.17 in c:\\users\\akhil\\anaconda3\\lib\\site-packages (from requests<3.0.0,>=2.23.0->deep-translator) (2023.11.17)\n",
            "Downloading deep_translator-1.11.4-py3-none-any.whl (42 kB)\n",
            "   ---------------------------------------- 0.0/42.3 kB ? eta -:--:--\n",
            "   ---------------------------------------- 42.3/42.3 kB 2.1 MB/s eta 0:00:00\n",
            "Installing collected packages: deep-translator\n",
            "Successfully installed deep-translator-1.11.4\n",
            "Note: you may need to restart the kernel to use updated packages.\n"
          ]
        }
      ],
      "source": [
        "pip install -U deep-translator"
      ]
    },
    {
      "cell_type": "code",
      "execution_count": null,
      "id": "c5a86dd9",
      "metadata": {
        "collapsed": true,
        "id": "c5a86dd9",
        "outputId": "561b349e-c13c-4a6c-86ee-0a004163ba05"
      },
      "outputs": [
        {
          "name": "stdout",
          "output_type": "stream",
          "text": [
            "Collecting SpeechRecognition\n",
            "  Obtaining dependency information for SpeechRecognition from https://files.pythonhosted.org/packages/73/8c/74d3b2a7d71e3f18e1e50bf3f168cf3333846137f5723efac3d0dc5a8635/SpeechRecognition-3.10.1-py2.py3-none-any.whl.metadata\n",
            "  Downloading SpeechRecognition-3.10.1-py2.py3-none-any.whl.metadata (28 kB)\n",
            "Requirement already satisfied: requests>=2.26.0 in c:\\users\\akhil\\anaconda3\\lib\\site-packages (from SpeechRecognition) (2.31.0)\n",
            "Requirement already satisfied: typing-extensions in c:\\users\\akhil\\anaconda3\\lib\\site-packages (from SpeechRecognition) (4.7.1)\n",
            "Requirement already satisfied: charset-normalizer<4,>=2 in c:\\users\\akhil\\anaconda3\\lib\\site-packages (from requests>=2.26.0->SpeechRecognition) (2.0.4)\n",
            "Requirement already satisfied: idna<4,>=2.5 in c:\\users\\akhil\\anaconda3\\lib\\site-packages (from requests>=2.26.0->SpeechRecognition) (3.4)\n",
            "Requirement already satisfied: urllib3<3,>=1.21.1 in c:\\users\\akhil\\anaconda3\\lib\\site-packages (from requests>=2.26.0->SpeechRecognition) (1.26.16)\n",
            "Requirement already satisfied: certifi>=2017.4.17 in c:\\users\\akhil\\anaconda3\\lib\\site-packages (from requests>=2.26.0->SpeechRecognition) (2023.11.17)\n",
            "Downloading SpeechRecognition-3.10.1-py2.py3-none-any.whl (32.8 MB)\n",
            "   ---------------------------------------- 0.0/32.8 MB ? eta -:--:--\n",
            "   ---------------------------------------- 0.0/32.8 MB ? eta -:--:--\n",
            "   ---------------------------------------- 0.1/32.8 MB 825.8 kB/s eta 0:00:40\n",
            "    --------------------------------------- 0.4/32.8 MB 3.8 MB/s eta 0:00:09\n",
            "   - -------------------------------------- 0.9/32.8 MB 5.7 MB/s eta 0:00:06\n",
            "   - -------------------------------------- 1.4/32.8 MB 7.3 MB/s eta 0:00:05\n",
            "   -- ------------------------------------- 1.8/32.8 MB 7.8 MB/s eta 0:00:04\n",
            "   -- ------------------------------------- 2.4/32.8 MB 8.5 MB/s eta 0:00:04\n",
            "   --- ------------------------------------ 3.0/32.8 MB 9.0 MB/s eta 0:00:04\n",
            "   ---- ----------------------------------- 3.5/32.8 MB 9.3 MB/s eta 0:00:04\n",
            "   ---- ----------------------------------- 4.0/32.8 MB 9.4 MB/s eta 0:00:04\n",
            "   ----- ---------------------------------- 4.5/32.8 MB 9.6 MB/s eta 0:00:03\n",
            "   ------ --------------------------------- 5.1/32.8 MB 9.8 MB/s eta 0:00:03\n",
            "   ------ --------------------------------- 5.7/32.8 MB 10.0 MB/s eta 0:00:03\n",
            "   ------- -------------------------------- 6.2/32.8 MB 10.1 MB/s eta 0:00:03\n",
            "   -------- ------------------------------- 6.7/32.8 MB 10.2 MB/s eta 0:00:03\n",
            "   -------- ------------------------------- 7.3/32.8 MB 10.6 MB/s eta 0:00:03\n",
            "   --------- ------------------------------ 7.8/32.8 MB 10.6 MB/s eta 0:00:03\n",
            "   ---------- ----------------------------- 8.3/32.8 MB 10.6 MB/s eta 0:00:03\n",
            "   ---------- ----------------------------- 8.9/32.8 MB 10.7 MB/s eta 0:00:03\n",
            "   ----------- ---------------------------- 9.4/32.8 MB 10.8 MB/s eta 0:00:03\n",
            "   ------------ --------------------------- 9.9/32.8 MB 10.7 MB/s eta 0:00:03\n",
            "   ------------ --------------------------- 10.4/32.8 MB 11.7 MB/s eta 0:00:02\n",
            "   ------------- -------------------------- 11.0/32.8 MB 11.7 MB/s eta 0:00:02\n",
            "   -------------- ------------------------- 11.5/32.8 MB 11.7 MB/s eta 0:00:02\n",
            "   -------------- ------------------------- 12.0/32.8 MB 11.9 MB/s eta 0:00:02\n",
            "   --------------- ------------------------ 12.5/32.8 MB 11.7 MB/s eta 0:00:02\n",
            "   --------------- ------------------------ 13.0/32.8 MB 11.9 MB/s eta 0:00:02\n",
            "   ---------------- ----------------------- 13.4/32.8 MB 11.7 MB/s eta 0:00:02\n",
            "   ---------------- ----------------------- 13.8/32.8 MB 11.9 MB/s eta 0:00:02\n",
            "   ----------------- ---------------------- 14.3/32.8 MB 11.9 MB/s eta 0:00:02\n",
            "   ----------------- ---------------------- 14.7/32.8 MB 11.7 MB/s eta 0:00:02\n",
            "   ------------------ --------------------- 15.1/32.8 MB 11.9 MB/s eta 0:00:02\n",
            "   ------------------ --------------------- 15.6/32.8 MB 11.9 MB/s eta 0:00:02\n",
            "   ------------------- -------------------- 16.0/32.8 MB 11.7 MB/s eta 0:00:02\n",
            "   -------------------- ------------------- 16.4/32.8 MB 11.9 MB/s eta 0:00:02\n",
            "   -------------------- ------------------- 16.9/32.8 MB 11.9 MB/s eta 0:00:02\n",
            "   --------------------- ------------------ 17.5/32.8 MB 11.7 MB/s eta 0:00:02\n",
            "   --------------------- ------------------ 17.9/32.8 MB 11.9 MB/s eta 0:00:02\n",
            "   ---------------------- ----------------- 18.4/32.8 MB 11.7 MB/s eta 0:00:02\n",
            "   ---------------------- ----------------- 18.9/32.8 MB 11.9 MB/s eta 0:00:02\n",
            "   ----------------------- ---------------- 19.4/32.8 MB 11.9 MB/s eta 0:00:02\n",
            "   ------------------------ --------------- 19.8/32.8 MB 11.9 MB/s eta 0:00:02\n",
            "   ------------------------ --------------- 20.3/32.8 MB 11.9 MB/s eta 0:00:02\n",
            "   ------------------------- -------------- 20.8/32.8 MB 11.9 MB/s eta 0:00:02\n",
            "   ------------------------- -------------- 21.3/32.8 MB 11.9 MB/s eta 0:00:01\n",
            "   -------------------------- ------------- 21.8/32.8 MB 11.9 MB/s eta 0:00:01\n",
            "   --------------------------- ------------ 22.3/32.8 MB 11.9 MB/s eta 0:00:01\n",
            "   --------------------------- ------------ 22.7/32.8 MB 11.9 MB/s eta 0:00:01\n",
            "   ---------------------------- ----------- 23.2/32.8 MB 11.7 MB/s eta 0:00:01\n",
            "   ---------------------------- ----------- 23.8/32.8 MB 11.7 MB/s eta 0:00:01\n",
            "   ----------------------------- ---------- 24.4/32.8 MB 11.9 MB/s eta 0:00:01\n",
            "   ------------------------------ --------- 24.8/32.8 MB 11.9 MB/s eta 0:00:01\n",
            "   ------------------------------ --------- 25.2/32.8 MB 11.9 MB/s eta 0:00:01\n",
            "   ------------------------------- -------- 25.7/32.8 MB 11.7 MB/s eta 0:00:01\n",
            "   ------------------------------- -------- 26.2/32.8 MB 11.9 MB/s eta 0:00:01\n",
            "   -------------------------------- ------- 26.7/32.8 MB 11.9 MB/s eta 0:00:01\n",
            "   --------------------------------- ------ 27.1/32.8 MB 11.7 MB/s eta 0:00:01\n",
            "   --------------------------------- ------ 27.5/32.8 MB 11.9 MB/s eta 0:00:01\n",
            "   ---------------------------------- ----- 28.0/32.8 MB 11.7 MB/s eta 0:00:01\n",
            "   ---------------------------------- ----- 28.4/32.8 MB 11.9 MB/s eta 0:00:01\n",
            "   ----------------------------------- ---- 28.9/32.8 MB 11.9 MB/s eta 0:00:01\n",
            "   ----------------------------------- ---- 29.4/32.8 MB 11.9 MB/s eta 0:00:01\n",
            "   ------------------------------------ --- 29.9/32.8 MB 11.9 MB/s eta 0:00:01\n",
            "   ------------------------------------- -- 30.4/32.8 MB 11.9 MB/s eta 0:00:01\n",
            "   ------------------------------------- -- 30.9/32.8 MB 11.9 MB/s eta 0:00:01\n",
            "   -------------------------------------- - 31.4/32.8 MB 11.9 MB/s eta 0:00:01\n",
            "   -------------------------------------- - 31.8/32.8 MB 11.9 MB/s eta 0:00:01\n",
            "   ---------------------------------------  32.2/32.8 MB 11.9 MB/s eta 0:00:01\n",
            "   ---------------------------------------  32.7/32.8 MB 11.9 MB/s eta 0:00:01\n",
            "   ---------------------------------------  32.8/32.8 MB 11.7 MB/s eta 0:00:01\n",
            "   ---------------------------------------- 32.8/32.8 MB 10.9 MB/s eta 0:00:00\n",
            "Installing collected packages: SpeechRecognition\n",
            "Successfully installed SpeechRecognition-3.10.1\n",
            "Note: you may need to restart the kernel to use updated packages.\n"
          ]
        }
      ],
      "source": [
        "pip install SpeechRecognition"
      ]
    },
    {
      "cell_type": "code",
      "execution_count": null,
      "id": "2d4e080d",
      "metadata": {
        "id": "2d4e080d",
        "outputId": "4ae20198-40ed-40ef-b981-641684733673"
      },
      "outputs": [
        {
          "name": "stdout",
          "output_type": "stream",
          "text": [
            "Enter the input language (e.g., en, fr, es): en\n",
            "Enter the output language (e.g., en, fr, es): fr\n",
            "Listening...\n",
            "You said: hello how are you\n",
            "bonjour comment allez-vous\n"
          ]
        }
      ],
      "source": [
        "import os\n",
        "import datetime\n",
        "import time\n",
        "import speech_recognition as sr\n",
        "from deep_translator import GoogleTranslator\n",
        "from gtts import gTTS\n",
        "from playsound import playsound\n",
        "\n",
        "def listen():\n",
        "    r = sr.Recognizer()\n",
        "    with sr.Microphone() as source:\n",
        "        print(\"Listening...\")\n",
        "        audio = r.listen(source)\n",
        "    try:\n",
        "        text = r.recognize_google(audio)\n",
        "        print(\"You said: \" + text)\n",
        "    except sr.UnknownValueError:\n",
        "        print(\"Could not understand audio\")\n",
        "    except sr.RequestError as e:\n",
        "        print(\"Could not request results from Google Speech Recognition service; {0}\".format(e))\n",
        "    return text\n",
        "\n",
        "def translate(text, from_lang, to_lang):\n",
        "    translation = GoogleTranslator(source='auto',target=to_lang).translate(text)\n",
        "    return translation\n",
        "\n",
        "def speak(text):\n",
        "    tts = gTTS(text=text, lang='en')\n",
        "    date_string = datetime.datetime.now().strftime(\"%d%m%Y%H%M%S\")\n",
        "    filename = \"voice\"+date_string+\".mp3\"\n",
        "    tts.save(filename)\n",
        "    playsound(filename)\n",
        "\n",
        "def main():\n",
        "    # Get the input language from the user\n",
        "    input_lang = input(\"Enter the input language (e.g., en, fr, es): \")\n",
        "\n",
        "    # Get the output language from the user\n",
        "    output_lang = input(\"Enter the output language (e.g., en, fr, es): \")\n",
        "\n",
        "    # Listen to the user's speech\n",
        "    text = listen()\n",
        "\n",
        "    # Translate the speech into the output language\n",
        "    translation = translate(text, input_lang, output_lang)\n",
        "    print(translation)\n",
        "\n",
        "    # Speak the translation to the user\n",
        "    speak(translation)\n",
        "\n",
        "if __name__ == \"__main__\":\n",
        "    main()\n"
      ]
    },
    {
      "cell_type": "code",
      "execution_count": null,
      "id": "0172c95b",
      "metadata": {
        "id": "0172c95b"
      },
      "outputs": [],
      "source": []
    }
  ],
  "metadata": {
    "kernelspec": {
      "display_name": "Python 3 (ipykernel)",
      "language": "python",
      "name": "python3"
    },
    "language_info": {
      "codemirror_mode": {
        "name": "ipython",
        "version": 3
      },
      "file_extension": ".py",
      "mimetype": "text/x-python",
      "name": "python",
      "nbconvert_exporter": "python",
      "pygments_lexer": "ipython3",
      "version": "3.11.5"
    },
    "colab": {
      "provenance": []
    }
  },
  "nbformat": 4,
  "nbformat_minor": 5
}